{
 "metadata": {
  "name": ""
 },
 "nbformat": 3,
 "nbformat_minor": 0,
 "worksheets": [
  {
   "cells": [
    {
     "cell_type": "heading",
     "level": 1,
     "metadata": {},
     "source": [
      "mobrob - A1"
     ]
    },
    {
     "cell_type": "markdown",
     "metadata": {},
     "source": [
      "In der Vorlesung sowie in den \u00dcbungen wurden zwei Dreirad-Konfigurationen er\u00f6rtert.\n",
      "Eine der zwei Dreirad-Konfigurationen hatte ein angetriebenes, lenkbares Vorderrad (Dreirad 1).\n",
      "Im Skript wurde hierzu die Pfadintegration wie folgt hergeleitet (siehe Skript Seite 7):"
     ]
    },
    {
     "cell_type": "markdown",
     "metadata": {},
     "source": [
      "\\begin{align}\n",
      "\\newcommand{\\s}{\\operatorname{s}}\n",
      "\\newcommand{\\c}{\\operatorname{c}}\n",
      "  \\dot{\\mathbf{X}}=\n",
      "  \\left(\n",
      "  \\begin{matrix}\n",
      "    \\dot{x}\\\\\n",
      "    \\dot{y}\\\\\n",
      "    \\dot{\\theta}\n",
      "  \\end{matrix}\n",
      "  \\right)\n",
      "  =\n",
      "  \\left(\n",
      "  \\begin{matrix}\n",
      "   v \\s_{\\beta} \\c_{\\theta} \\\\\n",
      "   v \\s_\\beta \\s_\\theta\\\\\n",
      "   -\\frac{1}{L} v \\c_{\\beta}\n",
      "  \\end{matrix}\n",
      "  \\right)\n",
      "\\end{align}"
     ]
    },
    {
     "cell_type": "markdown",
     "metadata": {},
     "source": [
      "Die \u00dcbungsaufgabe 13 aus dem Aufgabenheft dient als Grundlage f\u00fcr die Implementierung des Dreirad 1 mit hilfe des Roboter-Simulators.\n",
      "Eine numerische N\u00e4herung f\u00fcr die Odometrie ist hierbei unter Anwendung des Polygonzug-Verfahrens (Euler-Colaz) wie folgt herleitbar:"
     ]
    },
    {
     "cell_type": "markdown",
     "metadata": {},
     "source": [
      "\\begin{align}\n",
      "\\newcommand{\\s}{\\operatorname{s}}\n",
      "\\newcommand{\\c}{\\operatorname{c}}\n",
      "  \\mathbf{X}_{k+1}=\n",
      "  \\operatorname{\\mathbf{F}}(x,y,\\theta , \\beta , s)=\n",
      "  \\begin{pmatrix}\n",
      "    x\\\\\n",
      "    y\\\\\n",
      "    \\theta\n",
      "  \\end{pmatrix}\n",
      "  +\n",
      "  \\begin{pmatrix}\n",
      "   s \\s_\\beta \\cos\\left( \\theta - \\frac{s \\c_\\beta}{2L}\\right)\\\\\n",
      "   s \\s_\\beta \\sin\\left( \\theta - \\frac{s \\c_\\beta}{2L}\\right)\\\\\n",
      "   -\\frac{s \\c_\\beta}{L}\n",
      "  \\end{pmatrix}\n",
      "  \\text{ mit } s=v\\Delta t\n",
      "\\end{align}"
     ]
    },
    {
     "cell_type": "heading",
     "level": 1,
     "metadata": {},
     "source": [
      "L\u00f6sung"
     ]
    },
    {
     "cell_type": "markdown",
     "metadata": {},
     "source": [
      "Nachfolgend wird die Berechnung der Fehlerellipse angegeben.\n",
      "Fehlerfortpflanzung der Odometrie"
     ]
    },
    {
     "cell_type": "markdown",
     "metadata": {},
     "source": [
      "\\begin{align}\n",
      "\\mathbf{C}_{\\text{P},k+1,k} = \\mathbf{F}_{\\text{P},k+1} \\mathbf{C}_{\\text{P},k,k} \\mathbf{F}_{\\text{P},k+1}^{\\text{T}} + \\mathbf{F}_{\\text{S},k+1} \\mathbf{C}_{\\text{S},k+1} \\mathbf{F}_{\\text{S},k+1}^{\\text{T}}\n",
      "\\end{align}"
     ]
    },
    {
     "cell_type": "markdown",
     "metadata": {},
     "source": [
      "<b>Notiz:</b>\n",
      "\n",
      "$\\mathbf{F}_{\\text{P},k+1}$ ist die Jacobi-Matrix nach der Position $\\mathbf{X}$ im Arbeitspunkt $k+1$ mit $\\mathbf{F}_{\\text{P},k+1} = \\frac{\\partial\\mathbf{X}_{k+1}}{\\partial\\mathbf{X}}$\n",
      "\n",
      "$\\mathbf{F}_{\\text{S},k+1}$ ist die Jacobi-Matrix nach der Geschwindigkeit $\\mathbf{v}$ im Arbeitspunkt $k+1$ mit $\\mathbf{F}_{\\text{S},k+1} = \\frac{\\partial\\mathbf{X}_{k+1}}{\\partial\\mathbf{v}}$\n",
      "\n",
      "$\\mathbf{C}_{\\text{S},k+1}$ ist die Unsicherheit der zur\u00fcckgelegten Wegstrecke, welche mit der Geschwindigkeit $\\mathbf{v}$ skaliert (Die Konstanten $(k_1,k_2)$ m\u00fcssen messtechnisch ermittelt werden) mit $\\mathbf{C}_{\\text{S},k+1}=\\text{diag}\\left(k_1 \\left| s_{k+1}\\right|, k_2 \\left| \\Delta\\beta_{k+1}\\right| \\right)$"
     ]
    },
    {
     "cell_type": "heading",
     "level": 2,
     "metadata": {},
     "source": [
      "L\u00f6sung der Matrizen:"
     ]
    },
    {
     "cell_type": "markdown",
     "metadata": {},
     "source": [
      "\\begin{align}\n",
      "  \\mathbf{F}_{\\text{P},k+1}=\n",
      "  \\mathbf{H}_{\\text{P},k+1} =\n",
      "  \\left. \\frac{\\partial \\mathbf{F}}{ \\partial \\mathbf{X} }\\right|_{\\mathbf{X}_{k+1}}\n",
      "  = \n",
      "  \\left(\n",
      "  \\begin{matrix}\n",
      "      1 & 0 & - s \\s_\\beta \\sin\\left( \\theta - \\frac{s \\c_\\beta}{2L}\\right)\\\\\n",
      "      0 & 1 & s \\s_\\beta \\cos\\left( \\theta - \\frac{s \\c_\\beta}{2L}\\right)\\\\\n",
      "      0 & 0 & 1\n",
      "  \\end{matrix}\n",
      "  \\right)\n",
      "\\end{align}"
     ]
    },
    {
     "cell_type": "markdown",
     "metadata": {},
     "source": [
      "\\begin{align}\n",
      "  \\mathbf{F}_{\\text{S},k+1}=\n",
      "  \\mathbf{H}_{\\text{S},k+1} =\n",
      "  \\left. \\frac{\\partial \\mathbf{F}}{ \\partial (v,\\beta)^{\\text{T}} }\\right|_{\\mathbf{X}_{k+1}}\n",
      "  = \n",
      "  \\begin{pmatrix}\n",
      "   \\mathbf{F}_{\\text{S}_{v},k+1} &\n",
      "   \\mathbf{F}_{\\text{S}_{\\beta},k+1}\n",
      "  \\end{pmatrix}\n",
      "\\end{align}"
     ]
    },
    {
     "cell_type": "markdown",
     "metadata": {},
     "source": [
      "mit"
     ]
    },
    {
     "cell_type": "markdown",
     "metadata": {},
     "source": [
      "\\begin{align}\n",
      "   \\mathbf{F}_{\\text{S}_{v},k+1}\n",
      "   =\n",
      "  s_\\beta \\Delta t\n",
      "  \\begin{pmatrix}\n",
      "      \\cos\\left( \\theta - \\frac{s \\c_\\beta}{2L}\\right) + \\frac{s}{2L}\\c_\\beta \\sin\\left( \\theta - \\frac{s \\c_\\beta}{2L}\\right) \\\\\n",
      "      \\sin\\left( \\theta - \\frac{s \\c_\\beta}{2L}\\right) - \\frac{s}{2L}\\c_\\beta \\cos\\left( \\theta - \\frac{s \\c_\\beta}{2L}\\right) \\\\\n",
      "      - \\frac{\\arctan(\\beta)}{L}\n",
      "  \\end{pmatrix}\n",
      "\\end{align}"
     ]
    },
    {
     "cell_type": "markdown",
     "metadata": {},
     "source": [
      "\\begin{align}\n",
      "   \\mathbf{F}_{\\text{S}_{\\beta},k+1}\n",
      "   =\n",
      "  s\n",
      "  \\begin{pmatrix}\n",
      "     \\c_\\beta \\cos\\left( \\theta - \\frac{s \\c_\\beta}{2L}\\right) - \\frac{s}{2L} \\s_\\beta \\sin\\left( \\theta - \\frac{s \\c_\\beta}{2L}\\right) \\\\ \\c_\\beta \\sin\\left( \\theta - \\frac{s \\c_\\beta}{2L}\\right) + \\frac{s}{2L} \\s_\\beta \\cos\\left( \\theta - \\frac{s \\c_\\beta}{2L}\\right)\\\\ \\frac{\\s_\\beta}{L}\n",
      "  \\end{pmatrix}\n",
      "\\end{align}"
     ]
    }
   ],
   "metadata": {}
  }
 ]
}