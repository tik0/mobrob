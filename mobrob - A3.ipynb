{
 "metadata": {
  "name": ""
 },
 "nbformat": 3,
 "nbformat_minor": 0,
 "worksheets": [
  {
   "cells": [
    {
     "cell_type": "heading",
     "level": 1,
     "metadata": {},
     "source": [
      "mobrob - A3"
     ]
    },
    {
     "cell_type": "markdown",
     "metadata": {},
     "source": [
      "Implementieren Sie die Monte-Carlo-Lokalisation aus dem Skript (Seite 21ff.).\n",
      "F\u00fchren Sie hierzu einen k\u00fcnstlichen Fehler ein.\n",
      "Verwenden Sie ausserdem den differentiellen Roboter aus dem Robosim-Beispiel.\n",
      "Die Datei \"data/multigausstest.tcl\" enth\u00e4lt ein Code-Beispiel f\u00fcr einen Zufallsgenerator mit multivariater Gaussverteilung."
     ]
    },
    {
     "cell_type": "heading",
     "level": 1,
     "metadata": {},
     "source": [
      "L\u00f6sung"
     ]
    },
    {
     "cell_type": "markdown",
     "metadata": {},
     "source": [
      "Hier wird der Algorithmus vorgestellt so wie er in der Vorlesung und im Programm implementiert wurde.\n",
      "Es ist dabei zu beachten, dass die folgenden Schritte nur durchgef\u00fchrt werden, wenn eine Sensormessung gemacht wird.\n",
      "Dies ist der Fall wenn zum Beispiel nur alle 500 Schritte ein Update gemacht wird und dazwischen die Odometrie bem\u00fcht wird.\n",
      "F\u00fcr die restlichen 499 Schritte wird <b>nur</b> das Odometriemodell aus Schritt 2 angewandt auf die Partikel angewandt, ohne Rauschen und ohne Sampling."
     ]
    },
    {
     "cell_type": "heading",
     "level": 2,
     "metadata": {},
     "source": [
      "Schritt 0: Initialisierung"
     ]
    },
    {
     "cell_type": "markdown",
     "metadata": {},
     "source": [
      "Es werden $K$ Partikel auf der Karte $\\mathcal{W}$ gestreut, wobei jedes Partikel $p_k =(\\mathbf{X}_k , w_k )$ aus einer Position $\\mathbf{X}_k =(X_k ,Y_k ,\\theta_k )^{\\text{T}}$ und dem importance-factor $w_k$ besteht. Die drei verschiedenen Initialisierungen der Partikel k\u00f6nnen angedacht werden:\n",
      "\n",
      "   * An Roboterposition $\\mathbf{X}$: $\\mathbf{X}_k = \\mathbf{X}$ und $w_k = 1/N$\n",
      "   * An verauschter Roboterposition ($ \\mathbf{C}_{\\text{P},0}$ ist die Anfangsunsicherheit): $\\mathbf{X}_k = \\mathbf{X}+ v_k$ mit $v_k \\sim \\mathcal{N}(\\mathbf{X}, \\mathbf{C}_{\\text{P},0})$ und $w_k = 1/N$\n",
      "   * Gleichverteilt im Raum: $\\mathbf{X}_k \\sim \\mathcal{U}(\\mathcal{W})$ und $w_k = 1/N$"
     ]
    },
    {
     "cell_type": "heading",
     "level": 2,
     "metadata": {},
     "source": [
      "Schritt 1: Sampling"
     ]
    },
    {
     "cell_type": "markdown",
     "metadata": {},
     "source": [
      "F\u00fcr den Sampling-Schritt wird eine neue Generation an Partikeln $p'_k$ aus der Verteilung der alten Partikel gezogen, wobei Mehrfachziehungen erlaubt sind ($K$-mal ziehen mit Zur\u00fccklegen). "
     ]
    },
    {
     "cell_type": "markdown",
     "metadata": {},
     "source": [
      "\\begin{align}\n",
      "    & \\operatorname{f}(x) = \\sum_{k=1}^{K}w_k\\\\\n",
      "    & s_k = \\operatorname{ceil}\\left( \\operatorname{f}^{-1}( y \\sim \\mathcal{U}(0,1))\\right)\\\\\n",
      "    & p'_{k} = p_{s_k}\n",
      "\\end{align}"
     ]
    },
    {
     "cell_type": "heading",
     "level": 2,
     "metadata": {},
     "source": [
      "Schritt 2: Odometrie und Ruschen der Samples"
     ]
    },
    {
     "cell_type": "markdown",
     "metadata": {},
     "source": [
      "Es muss eine neue Position $\\mathbf{X}'_k \\sim P(l_t | a_t , l_{t-1})$ bestimmt werden.\n",
      "\n",
      "   * Letzte Position: $l_{t-1}$\n",
      "   * Aktuelle Position: $l_t$\n",
      "   * Aktionsmodell (Odometrie): $a_t$\n",
      "   \n",
      "Hierf\u00fcr wird jeder Partikel $p'_k$ entsprechend der Steuersignale $(v_l , v_r)$ fortbewegt:\n",
      "\n",
      "\\begin{align}\n",
      "\\mathbf{X}'_{k,\\text{Odo.}} =\n",
      "  \\begin{pmatrix}\n",
      "    X'_k\\\\\n",
      "    Y'_k\\\\\n",
      "    \\theta'_k\n",
      "  \\end{pmatrix}\n",
      "  +\n",
      "  \\begin{pmatrix}\n",
      "    \\frac{s_{L} + s_{R} }{2} \\cos \\left( \\theta'_k + \\frac{s_{R} -s_{L}}{2b}\\right)\\\\\n",
      "    \\frac{s_{L} + s_{R} }{2} \\sin \\left( \\theta'_k + \\frac{s_{R} -s_{L}}{2b}\\right)\\\\\n",
      "    \\frac{s_{R} - s_{L} }{b}\n",
      "  \\end{pmatrix}\n",
      "  \\text{ mit } s_{L}=v_{L}\\Delta t \\text{ und } s_{R}=v_{R}\\Delta t\n",
      "\\end{align}"
     ]
    },
    {
     "cell_type": "heading",
     "level": 3,
     "metadata": {},
     "source": [
      "Verrauschen der Samples"
     ]
    },
    {
     "cell_type": "markdown",
     "metadata": {},
     "source": [
      "Nach dem Odometrie-Schritt wird jeder Partikel an der neuen Position verrauscht.\n",
      "Hierf\u00fcr wird die Anfangsunsicherheit $\\mathbf{C}_{\\text{P},0}$ und die Fehlerfortpflanzung im aktuellen Schritt verwendet.\n",
      "\n",
      "\\begin{align}\n",
      "  & \\mathbf{X}'_{k,\\text{Odo.+MC}} = \\mathbf{X}'_k \\sim \\mathcal{N}( \\mathbf{X}'_{k,\\text{Odo.}} , \\mathbf{F}_{\\text{P}} \\mathbf{C}_{\\text{P},0} \\mathbf{F}_{\\text{P}}^{\\text{T}} + \\mathbf{F}_{\\text{S}} \\mathbf{C}_{\\text{S}} \\mathbf{F}_{\\text{S}}^{\\text{T}})\n",
      "\\end{align}"
     ]
    },
    {
     "cell_type": "heading",
     "level": 2,
     "metadata": {},
     "source": [
      "Schritt 4: Importance"
     ]
    },
    {
     "cell_type": "markdown",
     "metadata": {},
     "source": [
      "F\u00fcr jedes Partikel $p'_k$ an der neuen Position $\\mathbf{X}'_{k,\\text{Odo.+MC}}$ wird nun der neue Importance-Factor $w'_k$ anhand der Sensormessung $z_k$, und der Messgleichung $P(z_k |\\mathbf{X}'_{k,\\text{Odo.+MC}})$ bestimmt.\n",
      "F\u00fcr diese Messung muss f\u00fcr jedes Partikel eine hypothetisierte Sensormessung durchgef\u00fchrt werden (ein Laserscan an der Position $\\mathbf{X}'_{k,\\text{Odo.+MC}}$ des Partikels $p'_k$).\n",
      "F\u00fcr die Unsicherheit zwischen der Messung $z_k$ eines Partikels und der realen Messung $z$ des Laserscanners wird eine Gaussche Verteilung an der Stelle $z$ mit einer festen Unsicherheit $\\sigma_z$ ausgewertet:\n",
      "\n",
      "\\begin{align}\n",
      "  & \\tilde{w}_{k}=\\mathcal{N}(z,z_k,\\sigma_z)\n",
      "\\end{align}\n",
      "\n",
      "Da ein Laserscan an der aktuellen Position nicht nur aus einem Messwert $z$, sondern aus $R$ Messwerten $z_r$ besteht, schreibt sich der neue unnormalisierte Importance-Factor wie folgt:\n",
      "\n",
      "\\begin{align}\n",
      "  & \\tilde{w}_{k}=\\prod_{r=1}^R \\mathcal{N}(z_r,z_{k,r},\\sigma_z)\n",
      "\\end{align}\n",
      "\n",
      "Zuletzt wird der normalisierte Importance-Factor berechnet:\n",
      "\n",
      "\\begin{align}\n",
      "  & w'_{k}=\\tilde{w}_{k} / \\sum_{k=1}^K \\tilde{w}_{k}\n",
      "\\end{align}\n"
     ]
    },
    {
     "cell_type": "heading",
     "level": 3,
     "metadata": {},
     "source": [
      "Numerische Instabilit\u00e4t"
     ]
    },
    {
     "cell_type": "markdown",
     "metadata": {},
     "source": [
      "Durch die Berechnung von $\\tilde{w}_k$ \u00fcber alle Sensormessungen $R$ wird das Ergebnis numerisch instabil.\n",
      "Aus diesem Grund werden die Berechnungen in der $\\log$-Domaine durchgef\u00fchrt:"
     ]
    },
    {
     "cell_type": "markdown",
     "metadata": {},
     "source": [
      "\\begin{align}\n",
      "  & \\widetilde{w}_{k}=\\ln(\\tilde{w}_{k}) = \\sum_{r=1}^R - \\ln\\left(\\sqrt{2\\pi\\sigma_z}\\right) - \\frac{(z_r - z_{k,r})^2}{\\sigma_z^2}\n",
      "\\end{align}"
     ]
    },
    {
     "cell_type": "markdown",
     "metadata": {},
     "source": [
      "F\u00fcr die Normalisierung wird die $\\operatorname{logadd}$-Funktion f\u00fcr zwei Zahlen $a$ und $b$ mit $b < a$ wie folgt definiert:"
     ]
    },
    {
     "cell_type": "markdown",
     "metadata": {},
     "source": [
      "\\begin{align}\n",
      "  & \\operatorname{logadd}(a,b)=\\ln(a+b) = \\ln(a) + \\ln(1+\\exp(\\ln(b)-\\ln(a))) \\overset{\\ln(b)-\\ln(a)<-15 }{=} \\ln(a)\n",
      "\\end{align}"
     ]
    },
    {
     "cell_type": "markdown",
     "metadata": {},
     "source": [
      "Mit $\\operatorname{logadd}(a,b,c)=\\operatorname{logadd}(\\operatorname{logadd}(a,b),c)$ l\u00e4sst sich somit der unnormalisierte Importance-Factor leicht berechnen:"
     ]
    },
    {
     "cell_type": "markdown",
     "metadata": {},
     "source": [
      "\\begin{align}\n",
      "  & w'_k = \\exp\\left(\\widetilde{w}_{k} - \\operatorname{logadd}(\\widetilde{w}_{k,1}, \\widetilde{w}_{k,2}, \\ldots, \\widetilde{w}_{k,R})   \\right)\n",
      "\\end{align}"
     ]
    },
    {
     "cell_type": "heading",
     "level": 2,
     "metadata": {},
     "source": [
      "Schritt 5: Iteration"
     ]
    },
    {
     "cell_type": "markdown",
     "metadata": {},
     "source": [
      "Setze $p_k = \\left( \\mathbf{X}'_{k,\\text{Odo.+MC}}, w'_k\\right)$ und starte wieder im Schritt 3, nachdem der Roboter wieder einen Odometrieschritt gemacht hat."
     ]
    }
   ],
   "metadata": {}
  }
 ]
}