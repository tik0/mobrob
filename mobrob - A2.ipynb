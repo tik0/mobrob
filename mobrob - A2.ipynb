{
 "metadata": {
  "name": ""
 },
 "nbformat": 3,
 "nbformat_minor": 0,
 "worksheets": [
  {
   "cells": [
    {
     "cell_type": "heading",
     "level": 1,
     "metadata": {},
     "source": [
      "mobrob - A2"
     ]
    },
    {
     "cell_type": "markdown",
     "metadata": {},
     "source": [
      "Implementieren Sie eine simple \"Wandverfolgung\" als eine einfache automatische Steuerungsaufgabe, bei welcher der Roboter nicht mit der Wand kollidieren soll, sondern dem Verlauf der Wand folgt.\n",
      "Als \"Welt\" f\u00fcr diese Aufgaben laden Sie bitte die Konfiguration aus dem File \"TestWorld.world\" aus dem Ordner \"RoboSim-4-6-SX1/data/\"."
     ]
    },
    {
     "cell_type": "heading",
     "level": 1,
     "metadata": {},
     "source": [
      "L\u00f6sung"
     ]
    },
    {
     "cell_type": "markdown",
     "metadata": {},
     "source": [
      "Der Roboter hat einen Links-Drall, sodass er immer mit seiner linken Seite zur Wand steht und dieser folgt.\n",
      "Als Basis wird die \"obstacleAvoidance\" aus der \"differential.tcl\" verwendet.\n",
      "Sobald diese anspringt, das hei\u00dft wenn der Roboter zu nahe an eine Wand kommt, dreht sich der Roboter nach rechts weg.\n",
      "Wenn er dann zu weit entfernt von einem ihm linksseitigen Wand ist, so steuert er wieder nach links auf die Wand zu.\n",
      "Somit entsteht eine Hysterese, zwischen der sich der Roboter an der Wand entlang bewegt."
     ]
    }
   ],
   "metadata": {}
  }
 ]
}