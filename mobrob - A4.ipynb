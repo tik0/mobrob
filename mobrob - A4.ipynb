{
 "metadata": {
  "name": ""
 },
 "nbformat": 3,
 "nbformat_minor": 0,
 "worksheets": [
  {
   "cells": [
    {
     "cell_type": "heading",
     "level": 1,
     "metadata": {},
     "source": [
      "mobrob - A4"
     ]
    },
    {
     "cell_type": "markdown",
     "metadata": {},
     "source": [
      "Implementieren Sie eine Beacon-Navigation unter Verwendung des Kalman-Filter; benutzen Sie hierf\u00fcr ebenfalls den differentiellen Roboter.\n",
      "Es wird ein \"Kompass\" ben\u00f6tigt. Der Kompass liefert einen Winkel relativ zur X-Achse des Welt-KS, die Messung ist verrauscht.\n",
      "Desweiteren muss ein Bildsensor implementiert werden, der Markierungen (Beacons) aus dem Bild detektiert.\n",
      "Die Beacons sind an bekannten Orten im Raum angebracht ($X_{Li}$, $Y_{Li}$).\n",
      "Gemessen wird jeweils der Winkel (Azimuth) relativ zum Rob.-KS f\u00fcr ein zuf\u00e4llig ausgew\u00e4hltes Beacon, die Winkelmessung ist ebenfalls verrauscht!\n",
      "Da die Identit\u00e4t der Beacons nicht ermittelt werden kann, ist die Verwendung eines \"innovation gates\" notwendig.\n",
      "Sollte ein Match nicht eindeutig m\u00f6glich sein, wird die Messung verworfen."
     ]
    },
    {
     "cell_type": "heading",
     "level": 2,
     "metadata": {},
     "source": [
      "Ablauf"
     ]
    },
    {
     "cell_type": "markdown",
     "metadata": {},
     "source": [
      "*   Der Roboter bewegt sich, aktualisiert Positionssch\u00e4tzung und deren Kovarianz anhand des Odometriemodells\n",
      "($X_{k,k\u22121}$).\n",
      "*   Gemessen wird jeweils der Winkel zu einem zuf\u00e4llig ausgew\u00e4hlten Beacon. Der Kalman-Filter\n",
      "aktualisiert die Sch\u00e4tzung ($X_{k,k}$,$C_{k,k}$).\n",
      "*   Basisbreite (Abstand der R\u00e4der): $b$\n",
      "*   Geschwindigkeiten der R\u00e4der: $\\mathbf{v} = \\left( v_L , v_R\\right)^{\\text{T}}$\n",
      "*   Zustand (Pose im Weltkoordinatensystem): $\\mathbf{X}_k = (x_k , y_k , \\theta_k )^\\text{T}$\n",
      "*   Zustandssch\u00e4tzung: $\\mathbf{X}_{k,k} \\overset{\\text{Korrektur(Kalman)}}{\\longleftarrow} \\mathbf{X}_{k,k-1} \\overset{\\text{Vorhersage(Odom.-Modell)}}{\\longleftarrow} \\mathbf{X}_{k-1,k-1}$\n",
      "*   Kovarianz der Positionssch\u00e4tzung: $\\mathbf{C}_{\\text{P},k,k}$"
     ]
    },
    {
     "cell_type": "heading",
     "level": 2,
     "metadata": {},
     "source": [
      "Beacon-Peilung"
     ]
    },
    {
     "cell_type": "markdown",
     "metadata": {},
     "source": [
      "Messgleichung: Ausgew\u00e4hlt wird Beacon $i$ aus der Karte $\\alpha_k^i=\\arctan\\left({\\frac{Y_{Li}-Y_k}{X_{Li}-X_k}}\\right)-\\theta_k - v_k^\\text{P} = h^{\\text{P}i}(\\mathbf{X}_k,v_k^\\text{P})$ mit $v_k^\\text{P} \\sim \\mathcal{N}(0,\\sigma_\\text{P}^2)$"
     ]
    },
    {
     "cell_type": "heading",
     "level": 2,
     "metadata": {},
     "source": [
      "Kompass"
     ]
    },
    {
     "cell_type": "markdown",
     "metadata": {},
     "source": [
      "Messgleichung: $\\beta_k = \\theta_k + v_k^\\text{K} = h^\\text{K} (\\theta_k , v_k^\\text{K})$ mit $v_k^\\text{K} \\sim \\mathcal{N}(0,\\sigma_\\text{K}^2)$"
     ]
    },
    {
     "cell_type": "heading",
     "level": 1,
     "metadata": {},
     "source": [
      "L\u00f6sung"
     ]
    },
    {
     "cell_type": "markdown",
     "metadata": {},
     "source": [
      "Dies sind die L\u00f6sungsschritte der Lokalisation anhand des Kalman-Filters mit Innovation-Gate."
     ]
    },
    {
     "cell_type": "heading",
     "level": 2,
     "metadata": {},
     "source": [
      "Odometriegleichung"
     ]
    },
    {
     "cell_type": "markdown",
     "metadata": {},
     "source": [
      "Verfahren nach Euler-Colaz f\u00fcr einen Roboter mit differentialer Lenkung:"
     ]
    },
    {
     "cell_type": "markdown",
     "metadata": {},
     "source": [
      "\\begin{align}\n",
      "\\mathbf{X}_{k+1} =\n",
      "  \\begin{pmatrix}\n",
      "    X_k\\\\\n",
      "    Y_k\\\\\n",
      "    \\theta_k\n",
      "  \\end{pmatrix}\n",
      "  +\n",
      "  \\begin{pmatrix}\n",
      "    \\frac{s_{Lk} + s_{Rk} }{2} \\cos \\left( \\theta_k + \\frac{s_{Rk} -s_{Lk}}{2b}\\right)\\\\\n",
      "    \\frac{s_{Lk} + s_{Rk} }{2} \\sin \\left( \\theta_k + \\frac{s_{Rk} -s_{Lk}}{2b}\\right)\\\\\n",
      "    \\frac{s_{Rk} - s_{Lk} }{b}\n",
      "  \\end{pmatrix}\n",
      "  \\text{ mit } s_{Lk}=v_{Lk}\\Delta t \\text{ und } s_{Rk}=v_{Rk}\\Delta t\n",
      "\\end{align}"
     ]
    },
    {
     "cell_type": "markdown",
     "metadata": {},
     "source": [
      "Fehlerfortpflanzung der Odometrie:"
     ]
    },
    {
     "cell_type": "markdown",
     "metadata": {},
     "source": [
      "\\begin{align}\n",
      "\\mathbf{C}_{\\text{P},k+1,k} = \\mathbf{F}_{\\text{P},k+1} \\mathbf{C}_{\\text{P},k,k} \\mathbf{F}_{\\text{P},k+1}^{\\text{T}} + \\underbrace{\\mathbf{F}_{\\text{S},k+1} \\mathbf{C}_{\\text{S},k+1} \\mathbf{F}_{\\text{S},k+1}^{\\text{T}}}_{\\mathbf{Q}_{k+1}}\n",
      "\\end{align}"
     ]
    },
    {
     "cell_type": "markdown",
     "metadata": {},
     "source": [
      "<b>Notiz:</b>\n",
      "\n",
      "$\\mathbf{F}_{\\text{P},k+1}$ ist die Jacobi-Matrix nach der Position $\\mathbf{X}$ im Arbeitspunkt $k+1$ mit $\\mathbf{F}_{\\text{P},k+1} = \\frac{\\partial\\mathbf{X}_{k+1}}{\\partial\\mathbf{X}}$\n",
      "\n",
      "$\\mathbf{F}_{\\text{S},k+1}$ ist die Jacobi-Matrix nach der Geschwindigkeit $\\mathbf{v}$ im Arbeitspunkt $k+1$ mit $\\mathbf{F}_{\\text{S},k+1} = \\frac{\\partial\\mathbf{X}_{k+1}}{\\partial\\mathbf{v}}$\n",
      "\n",
      "$\\mathbf{C}_{\\text{S},k+1}$ ist die Unsicherheit der zur\u00fcckgelegten Wegstrecke, welche mit der Geschwindigkeit $\\mathbf{v}$ skaliert (Die Konstanten $(k_1,k_2)$ m\u00fcssen messtechnisch ermittelt werden) mit $\\mathbf{C}_{\\text{S},k+1}=\\text{diag}\\left(k_1 \\left| s_{Lk+1}\\right|, k_2 \\left| s_{Rk+1}\\right| \\right)$\n",
      "\n",
      "$\\mathbf{Q}_{k+1}$ wird als die verk\u00fcrzte Schreibweise f\u00fcr die Unsicherheit der Weg\u00e4nderung verwendet, mit $\\mathbf{Q}_{k+1} = \\mathbf{F}_{\\text{S},k+1} \\mathbf{C}_{\\text{S},k,k} \\mathbf{F}_{\\text{S},k+1}^{\\text{T}}$"
     ]
    },
    {
     "cell_type": "heading",
     "level": 2,
     "metadata": {},
     "source": [
      "Sensordaten Einlesen"
     ]
    },
    {
     "cell_type": "markdown",
     "metadata": {},
     "source": [
      "Diese Messgleichungen dienen der Simulation der Messungen zum Zeitpunkt $k+1$. Die Werte, die mit einem $'$ versehen sind, sind demnach <b>ground truth</b> Werte vom Simulator."
     ]
    },
    {
     "cell_type": "heading",
     "level": 3,
     "metadata": {},
     "source": [
      "Beacon Messung"
     ]
    },
    {
     "cell_type": "markdown",
     "metadata": {},
     "source": [
      "Sensormesswert wird von einem zuf\u00e4lligen Beacon $i$ unter dem Winkel $\\alpha^i_{k+1}$ gemessen eingelesen:"
     ]
    },
    {
     "cell_type": "markdown",
     "metadata": {},
     "source": [
      "\\begin{align}\n",
      "  &\\tilde{z}^\\text{P}_{k+1} = \\alpha^i_{k+1} = \\arctan\\left({\\frac{Y'_{Li}-Y'_{k+1}}{X'_{Li}-X'_{k+1}}}\\right)-\\theta'_{k+1} - v_{k+1}^\\text{P} = h^{\\text{P}i}(\\mathbf{X}'_{k+1},v_{k+1}^\\text{P})\n",
      "\\end{align}\n",
      "\n",
      "mit $v_{k+1}^\\text{P} \\sim \\mathcal{N}(0,\\sigma_\\text{P}^2)$.\n",
      "\n",
      "und $i \\sim$ Menge aller Beacons."
     ]
    },
    {
     "cell_type": "heading",
     "level": 3,
     "metadata": {},
     "source": [
      "Kompass Messung"
     ]
    },
    {
     "cell_type": "markdown",
     "metadata": {},
     "source": [
      "Die Kompassmessung ist eine verrauschte Messung der <b>ground truth</b> Daten."
     ]
    },
    {
     "cell_type": "markdown",
     "metadata": {},
     "source": [
      "\\begin{align}\n",
      "  &\\tilde{z}^\\text{K}_{k+1} = \\beta_{k+1} = \\theta'_{k+1} + v_{k+1}^\\text{K} = h^{\\text{K}i}(\\mathbf{X}'_{k+1},v_{x+1}^\\text{K})\n",
      "\\end{align}\n",
      "\n",
      "mit $v_{k+1}^\\text{K} \\sim \\mathcal{N}(0,\\sigma_\\text{K}^2)$"
     ]
    },
    {
     "cell_type": "heading",
     "level": 2,
     "metadata": {},
     "source": [
      "Berechnung einer Messvorhersage f\u00fcr alle Beacons"
     ]
    },
    {
     "cell_type": "markdown",
     "metadata": {},
     "source": [
      "Hier m\u00fcssen nun die Hypothesen $\\hat{z}_{i,k+1}$ berechnet werden, unter welchem Winkel der Roboter an der Position $\\mathbf{X}_{k+1}$ das Beacon $i$ messen kann."
     ]
    },
    {
     "cell_type": "markdown",
     "metadata": {},
     "source": [
      "\\begin{align}\n",
      "  \\hat{z}_{i,k+1} = \\arctan\\left({\\frac{Y_{Li}-Y_{k+1}}{X_{Li}-X_{k+1}}}\\right)-\\theta_k = h^{i}(\\mathbf{X}_{k+1},0)\\\\\n",
      "\\end{align}"
     ]
    },
    {
     "cell_type": "heading",
     "level": 2,
     "metadata": {},
     "source": [
      "Kalman-Gain"
     ]
    },
    {
     "cell_type": "markdown",
     "metadata": {},
     "source": [
      "Der Kalman-Gain wird anhand eines Innovation-Gates berechnet."
     ]
    },
    {
     "cell_type": "heading",
     "level": 3,
     "metadata": {},
     "source": [
      "Berechnung der Jakobi-Matrix der Messgleichungen:"
     ]
    },
    {
     "cell_type": "markdown",
     "metadata": {},
     "source": [
      "\\begin{align}\n",
      "  \\mathbf{H}^i_{k+1} = \\left. \\frac{\\partial (h^{\\text{P}i}, h^{\\text{K}i})^{\\text{T}}}{ \\partial \\mathbf{X} }\\right|_{\\mathbf{X}_{k+1}}\n",
      "  = \n",
      "  \\left(\n",
      "  \\begin{matrix}\n",
      "      \\frac{ Y_{Li}-Y_{k+1} }{(X_{Li}-X_{k+1})^2 + (Y_{Li}-Y_{k+1})^2}  &  \\frac{ X_{Li}-X_{k+1} }{(X_{Li}-X_{k+1})^2 + (Y_{Li}-Y_{k+1})^2} & -1\\\\\n",
      "      0 & 0 & 1\n",
      "  \\end{matrix}\n",
      "  \\right)\n",
      "\\end{align}"
     ]
    },
    {
     "cell_type": "markdown",
     "metadata": {},
     "source": [
      "\\begin{align}\n",
      "  \\mathbf{V}_{k+1} = \\left. \\frac{\\partial (h^{\\text{P}i}, h^{\\text{K}i})^{\\text{T}}}{ \\partial \\left( v^{\\text{P}}, v^{\\text{K}} \\right)^{\\text{T}} }\\right|_{\\mathbf{X}_{k+1}}\n",
      "  = \n",
      "  \\left(\n",
      "  \\begin{matrix}\n",
      "      -1 & 0\\\\\n",
      "      0 & 1\n",
      "  \\end{matrix}\n",
      "  \\right)\n",
      "\\end{align}"
     ]
    },
    {
     "cell_type": "heading",
     "level": 3,
     "metadata": {},
     "source": [
      "Berechnung der Fehlerfortpflanzung der Messgleichung"
     ]
    },
    {
     "cell_type": "markdown",
     "metadata": {},
     "source": [
      "Angabe der Unsicherheitsmatrix $\\mathbf{N}_{k+1}$, welche vom System vorgegeben ist:"
     ]
    },
    {
     "cell_type": "markdown",
     "metadata": {},
     "source": [
      "\\begin{align}\n",
      "  \\mathbf{N}_{k+1} = \\mathbf{N} = \n",
      "  \\left(\n",
      "  \\begin{matrix}\n",
      "      \\sigma_{\\text{P}}^2 & 0\\\\\n",
      "      0 & \\sigma_{\\text{K}}^2\n",
      "  \\end{matrix}\n",
      "  \\right) = \\text{const.}\n",
      "  \\forall k\n",
      "\\end{align}"
     ]
    },
    {
     "cell_type": "markdown",
     "metadata": {},
     "source": [
      "Fehlerfortpflanzung:"
     ]
    },
    {
     "cell_type": "markdown",
     "metadata": {},
     "source": [
      "\\begin{align}\n",
      "  \\mathbf{R}_{k+1} = \\mathbf{V}_{k+1} \\mathbf{N} \\mathbf{V}_{k+1}^{\\text{T}}\n",
      "  =\n",
      "  \\left(\n",
      "  \\begin{matrix}\n",
      "      \\sigma_{\\text{P}}^2 & 0\\\\\n",
      "      0 & \\sigma_{\\text{K}}^2\n",
      "  \\end{matrix}\n",
      "  \\right)\n",
      "  = \\text{const.}\n",
      "  \\forall k\n",
      "\\end{align}"
     ]
    },
    {
     "cell_type": "markdown",
     "metadata": {},
     "source": [
      "<b>Notiz:</b>\n",
      "\n",
      "Die Unsicherheiten des Rauschens gehen additiv in die Messterme ein.\n",
      "Somit bleibt auch das Rauschen zwischen dem Kompass und der Beacon-Peilung zum einen immer unkorreliert, und zum anderen konstant \u00fcber die Zeit."
     ]
    },
    {
     "cell_type": "heading",
     "level": 3,
     "metadata": {},
     "source": [
      "Innovation Gate"
     ]
    },
    {
     "cell_type": "markdown",
     "metadata": {},
     "source": [
      "Definition der Innovation:\n",
      "\\begin{align}\n",
      "    \\nu_{i,k+1} = \n",
      "    \\left(\n",
      "    \\begin{matrix}\n",
      "        \\nu^{\\text{P}}_{i,k+1}\\\\\n",
      "        \\nu^{\\text{K}}_{i,k+1}\n",
      "    \\end{matrix}\n",
      "    \\right)\n",
      "    =\n",
      "    \\left(\n",
      "    \\begin{matrix}        \n",
      "        \\tilde{z}^{\\text{P}}_{k+1} - \\hat{z}_{i,k+1}\\\\\n",
      "        \\tilde{z}^{\\text{K}}_{k+1} - \\theta_{k+1}\n",
      "    \\end{matrix}\n",
      "    \\right)\n",
      "\\end{align}"
     ]
    },
    {
     "cell_type": "markdown",
     "metadata": {},
     "source": [
      "Berechnung der Kovarianz der Innovation f\u00fcr das Beacon $i$:"
     ]
    },
    {
     "cell_type": "markdown",
     "metadata": {},
     "source": [
      "\\begin{align}\n",
      "    \\mathbf{C}_{\\nu_{i,k+1}} = \\mathbf{H}^i_{k+1}  \\mathbf{C}_{\\text{P},k+1,k}  \\mathbf{H}^{i\\text{T}}_{k+1} + \\mathbf{R}_{k+1}\n",
      "\\end{align}"
     ]
    },
    {
     "cell_type": "markdown",
     "metadata": {},
     "source": [
      "Vergleich der Innovation einer Messgleichung vom Beacon $i$ zu einem festen, definierten Gate-Wert $g$:"
     ]
    },
    {
     "cell_type": "markdown",
     "metadata": {},
     "source": [
      "\\begin{align}\n",
      "    \\nu_{i,k+1}^{\\text{T}} \\mathbf{C}_{\\nu_{i,k+1}}^{-1} \\nu_{i,k+1} \\le g^2\n",
      "\\end{align}"
     ]
    },
    {
     "cell_type": "markdown",
     "metadata": {},
     "source": [
      "Falls die Gleichung f\u00fcr einen Beacon $i$ wahr ist, so wird dieser der Menge $\\mathcal{M}_{k+1}$ hinzugef\u00fcgt"
     ]
    },
    {
     "cell_type": "heading",
     "level": 3,
     "metadata": {},
     "source": [
      "Kalman-Gain"
     ]
    },
    {
     "cell_type": "markdown",
     "metadata": {},
     "source": [
      "Falls anhand des Innovation-Gates <b>ein einziger</b> Match $\\mathcal{M}_{k+1}$ gefunden wurde, wird der Kalman-Gain berechnet.\n",
      "Wird <b>kein</b> oder <b>mehrer</b> Matches $\\mathcal{M}_{k+1}$ gefunden, wird der Kalman-Gain verworfen."
     ]
    },
    {
     "cell_type": "markdown",
     "metadata": {},
     "source": [
      "\\begin{align}\n",
      "    \\mathbf{K}_{k+1} = \\left\\lbrace\n",
      "    \\begin{matrix}\n",
      "        \\mathbf{C}_{\\text{P},k+1,k} \\mathbf{H}^{i\\text{T}}_{k+1}  \\mathbf{C}_{\\nu_{i,k+1}}^{-1} & \\text{falls }|\\mathcal{M}_{k+1}| = 1\\\\\n",
      "        \\mathbf{0}  & \\text{falls }|\\mathcal{M}_{k+1}| \\neq 1\n",
      "    \\end{matrix}\n",
      "    \\right.\n",
      "\\end{align}"
     ]
    },
    {
     "cell_type": "heading",
     "level": 2,
     "metadata": {},
     "source": [
      "Aktualisierung der Position und Unsicherheit"
     ]
    },
    {
     "cell_type": "markdown",
     "metadata": {},
     "source": [
      "Falls das Matching eines Beacons $i$ anhand des Innovation-Gates erfolgreich war, so wird die Sensormessung beim Update ber\u00fccksichtigt.\n",
      "Falls es jedoch nicht erfolgreich war, so wird die Messung verworfen und lediglich die Odometrie verwendet."
     ]
    },
    {
     "cell_type": "heading",
     "level": 3,
     "metadata": {},
     "source": [
      "Update: Position"
     ]
    },
    {
     "cell_type": "markdown",
     "metadata": {},
     "source": [
      "\\begin{align}\n",
      "    \\mathbf{X}_{k+1,k+1} = \\mathbf{X}_{k+1,k} + \\mathbf{K}_{k+1} \\nu_{i,k+1}  \n",
      "\\end{align}"
     ]
    },
    {
     "cell_type": "heading",
     "level": 3,
     "metadata": {},
     "source": [
      "Update: Kovarianz"
     ]
    },
    {
     "cell_type": "markdown",
     "metadata": {},
     "source": [
      "\\begin{align}\n",
      "    \\mathbf{C}_{\\text{P},k+1,k+1} = \\mathbf{C}_{\\text{P},k+1,k} - \\mathbf{K}_{k+1} \\mathbf{C}_{\\nu_{i,k+1}} \\mathbf{K}_{k+1}^{\\text{T}}\n",
      "\\end{align}"
     ]
    },
    {
     "cell_type": "heading",
     "level": 2,
     "metadata": {},
     "source": [
      "Iteration"
     ]
    },
    {
     "cell_type": "markdown",
     "metadata": {},
     "source": [
      "Setze nun $k+1 \\rightarrow k$ und beginne wieder im Odometrieschritt."
     ]
    }
   ],
   "metadata": {}
  }
 ]
}